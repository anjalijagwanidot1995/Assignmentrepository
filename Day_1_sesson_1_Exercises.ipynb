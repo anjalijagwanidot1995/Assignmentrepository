{
  "nbformat": 4,
  "nbformat_minor": 0,
  "metadata": {
    "colab": {
      "name": "Day 1 sesson 1 Exercises.ipynb",
      "provenance": [],
      "collapsed_sections": [],
      "authorship_tag": "ABX9TyNVyiWmh7rc0jnbYdKqjRSp",
      "include_colab_link": true
    },
    "kernelspec": {
      "name": "python3",
      "display_name": "Python 3"
    }
  },
  "cells": [
    {
      "cell_type": "markdown",
      "metadata": {
        "id": "view-in-github",
        "colab_type": "text"
      },
      "source": [
        "<a href=\"https://colab.research.google.com/github/anjalijagwanidot1995/Assignmentrepository/blob/assignmentbranch/Day_1_sesson_1_Exercises.ipynb\" target=\"_parent\"><img src=\"https://colab.research.google.com/assets/colab-badge.svg\" alt=\"Open In Colab\"/></a>"
      ]
    },
    {
      "cell_type": "markdown",
      "metadata": {
        "id": "7DjaZWq6WOYg",
        "colab_type": "text"
      },
      "source": [
        "1.\tFind the compound interest for the given p,n,r  (formula : p(1+n*r/100)n )"
      ]
    },
    {
      "cell_type": "code",
      "metadata": {
        "id": "7Lelz9IAWTCN",
        "colab_type": "code",
        "colab": {
          "base_uri": "https://localhost:8080/",
          "height": 85
        },
        "outputId": "f3c53e44-54c2-4952-a789-d6c3912979a6"
      },
      "source": [
        "# Code\n",
        "p = int(input('Pricipal Amount : '))\n",
        "n = int(input('Time : '))\n",
        "r = int(input('Rate(annum) : '))\n",
        "ci =  p * (pow((1 + r / 100), n)) \n",
        "print('Compound Interest is ', ci)"
      ],
      "execution_count": null,
      "outputs": [
        {
          "output_type": "stream",
          "text": [
            "Pricipal Amount : 10\n",
            "Time : 2\n",
            "Rate(annum) : 5\n",
            "Compound Interest is  11.025\n"
          ],
          "name": "stdout"
        }
      ]
    },
    {
      "cell_type": "markdown",
      "metadata": {
        "id": "ZUpQsmc9csIW",
        "colab_type": "text"
      },
      "source": [
        "2.\tConvert centegrade to farenheit  ( f= 9/5*c+32)"
      ]
    },
    {
      "cell_type": "code",
      "metadata": {
        "id": "ns1kBOY1cwh8",
        "colab_type": "code",
        "colab": {
          "base_uri": "https://localhost:8080/",
          "height": 51
        },
        "outputId": "141f4733-3c41-4f11-a297-f738162cb15e"
      },
      "source": [
        "c=float(input(\"Enter temperature in centegrade: \"))\n",
        "fahrenheit=(c*9/5) + 32\n",
        "print('%.2f Celsius is: %0.2f Fahrenheit' %(c, fahrenheit))"
      ],
      "execution_count": null,
      "outputs": [
        {
          "output_type": "stream",
          "text": [
            "Enter temperature in centegrade: 37\n",
            "37.00 Celsius is: 98.60 Fahrenheit\n"
          ],
          "name": "stdout"
        }
      ]
    },
    {
      "cell_type": "markdown",
      "metadata": {
        "id": "I2L4F-4UdVAU",
        "colab_type": "text"
      },
      "source": [
        "3.\tFind the greater of two nos "
      ]
    },
    {
      "cell_type": "code",
      "metadata": {
        "id": "5LIuVAXsdXuj",
        "colab_type": "code",
        "colab": {
          "base_uri": "https://localhost:8080/",
          "height": 68
        },
        "outputId": "fcff038c-5859-4856-aa3a-78c6289e4d80"
      },
      "source": [
        "num1 = int(input(\"Enter the first number: \"))\n",
        "num2 = int(input(\"Enter the second number: \"))\n",
        "print(max(num1, num2), \"is greater\")"
      ],
      "execution_count": null,
      "outputs": [
        {
          "output_type": "stream",
          "text": [
            "Enter the first number: 27\n",
            "Enter the second number: 45\n",
            "45 is greater\n"
          ],
          "name": "stdout"
        }
      ]
    },
    {
      "cell_type": "markdown",
      "metadata": {
        "id": "SW6tmzMGhkkt",
        "colab_type": "text"
      },
      "source": [
        "4.\tWrite a program for finding surface areas of cylinder and cone (2*PI*r*r*h, 1/3*PI*r*r*h) using function."
      ]
    },
    {
      "cell_type": "code",
      "metadata": {
        "id": "x0xZGlYqh714",
        "colab_type": "code",
        "colab": {
          "base_uri": "https://localhost:8080/",
          "height": 119
        },
        "outputId": "6f5f2713-34e5-4109-d547-3da4a25c3f40"
      },
      "source": [
        "import math \n",
        "pi = math.pi \n",
        "  \n",
        "# Function to calculate Surface Area of Cylinder \n",
        "def surfacecylinder(r, h): \n",
        "    return 2 * pi * r * r * h \n",
        "radius = float(input(\"Enter the radius: \")) \n",
        "height = float(input(\"Enter the height: \")) \n",
        "print( \"Surface Area Of Cylinder : \", surfacecylinder(radius, height) ) \n",
        "# Function to calculate Surface Area of Cone \n",
        "def surfacecone(r, h): \n",
        "    return (1 / 3) * pi * r * r * h \n",
        "radius = float(input(\"Enter the radius: \")) \n",
        "height = float(input(\"Enter the height: \")) \n",
        "print( \"Surface Area Of Cone : \", surfacecone(radius, height) ) \n",
        "\n",
        "\n"
      ],
      "execution_count": null,
      "outputs": [
        {
          "output_type": "stream",
          "text": [
            "Enter the radius: 5\n",
            "Enter the height: 6\n",
            "Surface Area Of Cylinder :  942.4777960769379\n",
            "Enter the radius: 5\n",
            "Enter the height: 6\n",
            "Surface Area Of Cone :  157.07963267948963\n"
          ],
          "name": "stdout"
        }
      ]
    },
    {
      "cell_type": "markdown",
      "metadata": {
        "id": "cLzn8T07lJky",
        "colab_type": "text"
      },
      "source": [
        "5.\tFind the greatest of four nos ( using ‘and’ operator)   using function."
      ]
    },
    {
      "cell_type": "code",
      "metadata": {
        "id": "bTOrfNiXlNDh",
        "colab_type": "code",
        "colab": {
          "base_uri": "https://localhost:8080/",
          "height": 102
        },
        "outputId": "71b4644d-6f84-44ee-9dd9-74b9751cd484"
      },
      "source": [
        "num1=int(input(\"Enter the first number: \"));\n",
        "num2=int(input(\"Enter the second number: \"));\n",
        "num3=int(input(\"Enter the Third number: \"));\n",
        "num4=int(input(\"Enter the Four number: \"));\n",
        "def find_Biggest():      #function definition\n",
        "     if(num1>=num2) and (num1>=num2):\n",
        "         largest=num1\n",
        "     elif(num2>=num1) and (num2>=num3):\n",
        "         largest=num2\n",
        "     elif(num3>=num2) and (num3>=num4):\n",
        "         largest=num3\n",
        "     else:\n",
        "         largest=num4\n",
        "     print(\"Largest number is\",largest)\n",
        "find_Biggest(); "
      ],
      "execution_count": null,
      "outputs": [
        {
          "output_type": "stream",
          "text": [
            "Enter the first number: 1\n",
            "Enter the second number: 2\n",
            "Enter the Third number: 3\n",
            "Enter the Four number: 4\n",
            "Largest number is 4\n"
          ],
          "name": "stdout"
        }
      ]
    },
    {
      "cell_type": "markdown",
      "metadata": {
        "id": "L-yFghb3lCG8",
        "colab_type": "text"
      },
      "source": [
        "6.\tWrite a  menu program to perform the operations ( ODDorEven, Factorial, ODDNoUptoN, PrimeUptoN ) using functions for two nos with  menu choice"
      ]
    },
    {
      "cell_type": "code",
      "metadata": {
        "id": "bqTwLWBepFCt",
        "colab_type": "code",
        "colab": {
          "base_uri": "https://localhost:8080/",
          "height": 85
        },
        "outputId": "d92fef52-3a5b-4cd8-9ea5-8bf185992202"
      },
      "source": [
        "# take input from the user  \n",
        "print(\"Select operation.\")  \n",
        "print(\"1. Odd or Even\")  \n",
        "print(\"2. Factorial\")  \n",
        "print(\"3. Odd number upto n\")   \n",
        "  \n",
        "choice = input(\"Enter choice(1/2/3):\")  \n",
        "  \n",
        "num = int(input(\"Enter number: \"))  \n",
        "\n",
        "if choice == '1':  \n",
        "   if (num % 2) == 0:  \n",
        "    print(\"{0} is Even number\".format(num))  \n",
        "   else:  \n",
        "    print(\"{0} is Odd number\".format(num))  \n",
        "elif choice == '2':  \n",
        "    fact = 1\n",
        "    for i in range(1,num+1): \n",
        "      fact = fact * i \n",
        "    print (\"The factorial of number is : \",end=\"\") \n",
        "    print (fact)\n",
        "elif choice == '3':  \n",
        "   for number in range(1, num + 1, 2):\n",
        "    print(\"{0}\".format(number))\n",
        "else:  \n",
        "    print(\"Invalid input\")  "
      ],
      "execution_count": null,
      "outputs": [
        {
          "output_type": "stream",
          "text": [
            "Select operation.\n",
            "1. Odd or Even\n",
            "2. Factorial\n",
            "3. Odd number upto n\n"
          ],
          "name": "stdout"
        }
      ]
    }
  ]
}