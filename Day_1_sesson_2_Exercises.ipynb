{
  "nbformat": 4,
  "nbformat_minor": 0,
  "metadata": {
    "colab": {
      "name": "Day 1 sesson 2 Exercises.ipynb",
      "provenance": [],
      "authorship_tag": "ABX9TyMRUGBE5cz8ytF/YWz0SofX",
      "include_colab_link": true
    },
    "kernelspec": {
      "name": "python3",
      "display_name": "Python 3"
    }
  },
  "cells": [
    {
      "cell_type": "markdown",
      "metadata": {
        "id": "view-in-github",
        "colab_type": "text"
      },
      "source": [
        "<a href=\"https://colab.research.google.com/github/anjalijagwanidot1995/Assignmentrepository/blob/master/Day_1_sesson_2_Exercises.ipynb\" target=\"_parent\"><img src=\"https://colab.research.google.com/assets/colab-badge.svg\" alt=\"Open In Colab\"/></a>"
      ]
    },
    {
      "cell_type": "markdown",
      "metadata": {
        "id": "IR49xp-3w3NC",
        "colab_type": "text"
      },
      "source": [
        "1 Write a program to print the triangle"
      ]
    },
    {
      "cell_type": "code",
      "metadata": {
        "id": "qilXZ6dpxBPg",
        "colab_type": "code",
        "colab": {
          "base_uri": "https://localhost:8080/",
          "height": 85
        },
        "outputId": "46495946-976d-4a75-e2a6-eff0b638f6a8"
      },
      "source": [
        "rows = int(input('Enter Number: '))\n",
        "for row in range(1, rows):\n",
        "    for column in range(row, 0, -1):\n",
        "        print(column, end=' ')\n",
        "    print(\"\")"
      ],
      "execution_count": null,
      "outputs": [
        {
          "output_type": "stream",
          "text": [
            "Enter Number: 4\n",
            "1 \n",
            "2 1 \n",
            "3 2 1 \n"
          ],
          "name": "stdout"
        }
      ]
    },
    {
      "cell_type": "markdown",
      "metadata": {
        "id": "lzUElbIKxtp5",
        "colab_type": "text"
      },
      "source": [
        "2. Enter number 4"
      ]
    },
    {
      "cell_type": "code",
      "metadata": {
        "id": "NJpOk0R5yB0A",
        "colab_type": "code",
        "colab": {
          "base_uri": "https://localhost:8080/",
          "height": 102
        },
        "outputId": "a0b49b4c-2bc0-4102-fd82-d5feb653fc18"
      },
      "source": [
        "rows = int(input('Enter Number: '))\n",
        "for j in range(1, rows+1):\n",
        "    print(\"* \" * j)"
      ],
      "execution_count": null,
      "outputs": [
        {
          "output_type": "stream",
          "text": [
            "Enter Number: 4\n",
            "* \n",
            "* * \n",
            "* * * \n",
            "* * * * \n"
          ],
          "name": "stdout"
        }
      ]
    },
    {
      "cell_type": "markdown",
      "metadata": {
        "id": "p3UZoGzdyd6Y",
        "colab_type": "text"
      },
      "source": [
        "3 Enter number 5"
      ]
    },
    {
      "cell_type": "code",
      "metadata": {
        "id": "VMfluvUfyg2Y",
        "colab_type": "code",
        "colab": {
          "base_uri": "https://localhost:8080/",
          "height": 136
        },
        "outputId": "908d98f3-8492-414e-dd0d-cbceab2899d9"
      },
      "source": [
        "rows = int(input('Enter Number: '))\n",
        "for i in range(0, rows + 1):\n",
        "    for j in range(rows - i, 0, -1):\n",
        "        print(j, end=' ')\n",
        "    print()"
      ],
      "execution_count": null,
      "outputs": [
        {
          "output_type": "stream",
          "text": [
            "Enter Number: 5\n",
            "5 4 3 2 1 \n",
            "4 3 2 1 \n",
            "3 2 1 \n",
            "2 1 \n",
            "1 \n",
            "\n"
          ],
          "name": "stdout"
        }
      ]
    },
    {
      "cell_type": "markdown",
      "metadata": {
        "id": "iGQ9XPIM5qa1",
        "colab_type": "text"
      },
      "source": [
        "4 Enter number 5"
      ]
    },
    {
      "cell_type": "code",
      "metadata": {
        "id": "th83ZBLt5vSB",
        "colab_type": "code",
        "colab": {
          "base_uri": "https://localhost:8080/",
          "height": 119
        },
        "outputId": "14865a6f-d0ed-467c-8142-0700dfd429b0"
      },
      "source": [
        "rows = int(input('Enter Number: '))\n",
        "Number = rows\n",
        "for i in range(1, rows+1):\n",
        "    Number = rows\n",
        "    for j in range(i):\n",
        "        print(Number, end=' ')\n",
        "        Number -= 1\n",
        "    print(\"\\r\")"
      ],
      "execution_count": null,
      "outputs": [
        {
          "output_type": "stream",
          "text": [
            "Enter Number: 5\n",
            "5 \n",
            "5 4 \n",
            "5 4 3 \n",
            "5 4 3 2 \n",
            "5 4 3 2 1 \n"
          ],
          "name": "stdout"
        }
      ]
    },
    {
      "cell_type": "markdown",
      "metadata": {
        "id": "yJsvtpmg8stL",
        "colab_type": "text"
      },
      "source": [
        "6 Find the length of a string without using len functions"
      ]
    },
    {
      "cell_type": "code",
      "metadata": {
        "id": "9ABv8XHgAZVZ",
        "colab_type": "code",
        "colab": {
          "base_uri": "https://localhost:8080/",
          "height": 51
        },
        "outputId": "baf020d1-ef10-4c78-96da-540ac182051a"
      },
      "source": [
        "str = input(\"Enter a string: \")\n",
        "counter = 0\n",
        "for s in str:\n",
        "      counter = counter+1\n",
        "print(\"Length of the input string is:\", counter)"
      ],
      "execution_count": 7,
      "outputs": [
        {
          "output_type": "stream",
          "text": [
            "Enter a string: Anjali Jagwani\n",
            "Length of the input string is: 14\n"
          ],
          "name": "stdout"
        }
      ]
    },
    {
      "cell_type": "markdown",
      "metadata": {
        "id": "KCyZ8RKnAq7P",
        "colab_type": "text"
      },
      "source": [
        "7 Find the no of words and characters in a string"
      ]
    },
    {
      "cell_type": "code",
      "metadata": {
        "id": "k0DKVYE7A3K-",
        "colab_type": "code",
        "colab": {
          "base_uri": "https://localhost:8080/",
          "height": 51
        },
        "outputId": "2dccf981-c456-426d-a684-b98a4be4f2dc"
      },
      "source": [
        "str1 = input(\"Please Enter your String : \")\n",
        "total = 0\n",
        " \n",
        "for i in str1:\n",
        "    total = total + 1\n",
        " \n",
        "print(\"Total Number of Characters in this String = \", total)"
      ],
      "execution_count": 8,
      "outputs": [
        {
          "output_type": "stream",
          "text": [
            "Please Enter your String : Hello Every one\n",
            "Total Number of Characters in this String =  15\n"
          ],
          "name": "stdout"
        }
      ]
    },
    {
      "cell_type": "markdown",
      "metadata": {
        "id": "DzLUQY3JBCZv",
        "colab_type": "text"
      },
      "source": [
        "8 Find the no of occurrences of a word in a string"
      ]
    },
    {
      "cell_type": "code",
      "metadata": {
        "id": "G57kfPoVBWof",
        "colab_type": "code",
        "colab": {
          "base_uri": "https://localhost:8080/",
          "height": 34
        },
        "outputId": "419402db-92d4-44f6-b1f0-b04b8d013232"
      },
      "source": [
        "string = \"Hello Everyone\"\n",
        "substring = \"e\"\n",
        "count = string.count(substring)\n",
        "print(\"The count is:\", count)"
      ],
      "execution_count": 9,
      "outputs": [
        {
          "output_type": "stream",
          "text": [
            "The count is: 3\n"
          ],
          "name": "stdout"
        }
      ]
    }
  ]
}