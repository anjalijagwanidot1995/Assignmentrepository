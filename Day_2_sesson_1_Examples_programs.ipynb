{
  "nbformat": 4,
  "nbformat_minor": 0,
  "metadata": {
    "colab": {
      "name": "Day 2 sesson 1 Examples programs.ipynb",
      "provenance": [],
      "collapsed_sections": [],
      "authorship_tag": "ABX9TyP6kU0l2TRwN/PFApPJqS3a",
      "include_colab_link": true
    },
    "kernelspec": {
      "name": "python3",
      "display_name": "Python 3"
    }
  },
  "cells": [
    {
      "cell_type": "markdown",
      "metadata": {
        "id": "view-in-github",
        "colab_type": "text"
      },
      "source": [
        "<a href=\"https://colab.research.google.com/github/anjalijagwanidot1995/Assignmentrepository/blob/master/Day_2_sesson_1_Examples_programs.ipynb\" target=\"_parent\"><img src=\"https://colab.research.google.com/assets/colab-badge.svg\" alt=\"Open In Colab\"/></a>"
      ]
    },
    {
      "cell_type": "markdown",
      "metadata": {
        "id": "q-UJjvo0CNS4",
        "colab_type": "text"
      },
      "source": [
        "***print multiples of 3 upto 200 using a list***"
      ]
    },
    {
      "cell_type": "code",
      "metadata": {
        "id": "XRswcEitCSGG",
        "colab_type": "code",
        "colab": {
          "base_uri": "https://localhost:8080/",
          "height": 85
        },
        "outputId": "68467aea-d376-4dde-99d8-da6d26a2954c"
      },
      "source": [
        "import numpy as np\n",
        "x = np.arange(1, 200)\n",
        "# find  multiple of 3\n",
        "n= x[(x % 3 == 0)]\n",
        "print(n[:1000])"
      ],
      "execution_count": null,
      "outputs": [
        {
          "output_type": "stream",
          "text": [
            "[  3   6   9  12  15  18  21  24  27  30  33  36  39  42  45  48  51  54\n",
            "  57  60  63  66  69  72  75  78  81  84  87  90  93  96  99 102 105 108\n",
            " 111 114 117 120 123 126 129 132 135 138 141 144 147 150 153 156 159 162\n",
            " 165 168 171 174 177 180 183 186 189 192 195 198]\n"
          ],
          "name": "stdout"
        }
      ]
    },
    {
      "cell_type": "markdown",
      "metadata": {
        "id": "KWGbv_8wDNi4",
        "colab_type": "text"
      },
      "source": [
        "***print the nos only divisable by 5 and 7 between 1000 and 2000 using a list( both inclusive)***"
      ]
    },
    {
      "cell_type": "code",
      "metadata": {
        "id": "6IfxvHZCDgxt",
        "colab_type": "code",
        "colab": {
          "base_uri": "https://localhost:8080/",
          "height": 34
        },
        "outputId": "d249a7e2-0f7b-456f-9c90-5f635117acfa"
      },
      "source": [
        "nl=[]\n",
        "for x in range(1000, 2000):\n",
        "    if (x%7==0) and (x%5==0):\n",
        "        nl.append(str(x))\n",
        "print (','.join(nl))"
      ],
      "execution_count": null,
      "outputs": [
        {
          "output_type": "stream",
          "text": [
            "1015,1050,1085,1120,1155,1190,1225,1260,1295,1330,1365,1400,1435,1470,1505,1540,1575,1610,1645,1680,1715,1750,1785,1820,1855,1890,1925,1960,1995\n"
          ],
          "name": "stdout"
        }
      ]
    },
    {
      "cell_type": "markdown",
      "metadata": {
        "id": "NddPAhvEDvbW",
        "colab_type": "text"
      },
      "source": [
        "***Add the n number of names in a list and print them alphabetically and reverse alphabetically.***"
      ]
    },
    {
      "cell_type": "code",
      "metadata": {
        "id": "vmPKykPNFoMD",
        "colab_type": "code",
        "colab": {
          "base_uri": "https://localhost:8080/",
          "height": 323
        },
        "outputId": "bd1b14f2-2850-427f-d53f-00202061e44b"
      },
      "source": [
        "my_str = input(\"Enter a string: \")\n",
        "words = my_str.split()\n",
        "words.sort()\n",
        "print(\"The sorted words are:\")\n",
        "for word in words:\n",
        "   print(word)"
      ],
      "execution_count": null,
      "outputs": [
        {
          "output_type": "stream",
          "text": [
            "Enter a string: Add the n number of names in a list and print them alphabetically and reverse alphabetically.\n",
            "The sorted words are:\n",
            "Add\n",
            "a\n",
            "alphabetically\n",
            "alphabetically.\n",
            "and\n",
            "and\n",
            "in\n",
            "list\n",
            "n\n",
            "names\n",
            "number\n",
            "of\n",
            "print\n",
            "reverse\n",
            "the\n",
            "them\n"
          ],
          "name": "stdout"
        }
      ]
    },
    {
      "cell_type": "markdown",
      "metadata": {
        "id": "iDcjUkgsGsvc",
        "colab_type": "text"
      },
      "source": [
        "***Print  perfect squares and divisible by 5 between 500 and 1000( (both inclusive) using list***"
      ]
    },
    {
      "cell_type": "code",
      "metadata": {
        "id": "s3P-ZaSjH-yr",
        "colab_type": "code",
        "colab": {
          "base_uri": "https://localhost:8080/",
          "height": 119
        },
        "outputId": "b4252be7-6ec6-4c53-cb18-7798b4086461"
      },
      "source": [
        "import numpy as np\n",
        "x = np.arange(501, 1000)\n",
        "# find  multiple of 5\n",
        "n= x[(x % 5 == 0)]\n",
        "print(n[:1000])"
      ],
      "execution_count": null,
      "outputs": [
        {
          "output_type": "stream",
          "text": [
            "[505 510 515 520 525 530 535 540 545 550 555 560 565 570 575 580 585 590\n",
            " 595 600 605 610 615 620 625 630 635 640 645 650 655 660 665 670 675 680\n",
            " 685 690 695 700 705 710 715 720 725 730 735 740 745 750 755 760 765 770\n",
            " 775 780 785 790 795 800 805 810 815 820 825 830 835 840 845 850 855 860\n",
            " 865 870 875 880 885 890 895 900 905 910 915 920 925 930 935 940 945 950\n",
            " 955 960 965 970 975 980 985 990 995]\n"
          ],
          "name": "stdout"
        }
      ]
    },
    {
      "cell_type": "markdown",
      "metadata": {
        "id": "iiSczoSHIQqF",
        "colab_type": "text"
      },
      "source": [
        "***Get  a string and store word by word as elements in a tuple and find the largest word in the  tuple and print it***"
      ]
    },
    {
      "cell_type": "code",
      "metadata": {
        "id": "KrksCbNWIb8G",
        "colab_type": "code",
        "colab": {
          "base_uri": "https://localhost:8080/",
          "height": 34
        },
        "outputId": "3fd70fe5-5dac-42b7-d3c5-326deb14f105"
      },
      "source": [
        "def bigWords(list=[], *args):\n",
        "    largestWord=\"\"\n",
        "    for word in list:       \n",
        "        if len(largestWord)<len(word):\n",
        "            largestWord= word\n",
        "    print (\"The longest word(s) in the list is %s.\" % (largestWord))\n",
        "    return largestWord\n",
        "\n",
        "def callFunctions():\n",
        "###Words###\n",
        "    words=[\"alpha\",\"omega\",\"up\",\"down\",\"over\",\"under\",\"purple\",\"red\",\"blue\",\"green\"]\n",
        "    func_list2 = [bigWords]\n",
        "    for f in func_list2:\n",
        "        f(words)\n",
        "\n",
        "callFunctions()"
      ],
      "execution_count": null,
      "outputs": [
        {
          "output_type": "stream",
          "text": [
            "The longest word(s) in the list is purple.\n"
          ],
          "name": "stdout"
        }
      ]
    },
    {
      "cell_type": "markdown",
      "metadata": {
        "id": "rNFhykPH57ee",
        "colab_type": "text"
      },
      "source": [
        "***Get rollno and marks (Rollno, mark) as list of tuples for n number of students through keyboard  and print them in marks descending order with rollno.***"
      ]
    },
    {
      "cell_type": "code",
      "metadata": {
        "id": "dzYNVs2F6Wb3",
        "colab_type": "code",
        "colab": {
          "base_uri": "https://localhost:8080/",
          "height": 289
        },
        "outputId": "f9ca0a4d-f907-45e4-a7f0-2ab2e345768f"
      },
      "source": [
        "students=[]\n",
        "for num in range(5):\n",
        "    x=input(\"Enter name of students: \")\n",
        "    y=input(\"Enter marks of students:\")\n",
        "    students.append((x,y,))\n",
        "\n",
        "report = input(\"Do you want to print class report?: \")\n",
        "if report == 'yes':\n",
        "    for x, y in students:\n",
        "        print(x,\":\", y)"
      ],
      "execution_count": 3,
      "outputs": [
        {
          "output_type": "stream",
          "text": [
            "Enter name of students: anjali\n",
            "Enter marks of students:50\n",
            "Enter name of students: varsha\n",
            "Enter marks of students:60\n",
            "Enter name of students: pankaj\n",
            "Enter marks of students:80\n",
            "Enter name of students: mahima\n",
            "Enter marks of students:30\n",
            "Enter name of students: shailja\n",
            "Enter marks of students:00\n",
            "Do you want to print class report?: yes\n",
            "anjali : 50\n",
            "varsha : 60\n",
            "pankaj : 80\n",
            "mahima : 30\n",
            "shailja : 00\n"
          ],
          "name": "stdout"
        }
      ]
    }
  ]
}